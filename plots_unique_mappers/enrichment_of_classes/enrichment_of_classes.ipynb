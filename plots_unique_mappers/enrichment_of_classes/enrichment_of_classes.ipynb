{
 "cells": [
  {
   "cell_type": "code",
   "execution_count": 1,
   "metadata": {},
   "outputs": [
    {
     "data": {
      "text/html": [
       "        <script type=\"text/javascript\">\n",
       "        window.PlotlyConfig = {MathJaxConfig: 'local'};\n",
       "        if (window.MathJax) {MathJax.Hub.Config({SVG: {font: \"STIX-Web\"}});}\n",
       "        if (typeof require !== 'undefined') {\n",
       "        require.undef(\"plotly\");\n",
       "        requirejs.config({\n",
       "            paths: {\n",
       "                'plotly': ['https://cdn.plot.ly/plotly-latest.min']\n",
       "            }\n",
       "        });\n",
       "        require(['plotly'], function(Plotly) {\n",
       "            window._Plotly = Plotly;\n",
       "        });\n",
       "        }\n",
       "        </script>\n",
       "        "
      ]
     },
     "metadata": {},
     "output_type": "display_data"
    }
   ],
   "source": [
    "import pandas as pd\n",
    "import seaborn as sns\n",
    "import plotly\n",
    "import plotly.express as px\n",
    "import plotly.graph_objects as go\n",
    "plotly.offline.init_notebook_mode(connected=True)\n",
    "import matplotlib.pyplot as plt\n",
    "from scipy import stats\n",
    "from matplotlib_venn import venn2, venn3\n",
    "import os\n",
    "import numpy as np"
   ]
  },
  {
   "cell_type": "code",
   "execution_count": 2,
   "metadata": {},
   "outputs": [],
   "source": [
    "# Global options\n",
    "\n",
    "sns.set_style(\"white\")\n",
    "sns.set(font_scale=2, style=\"ticks\")\n",
    "\n",
    "height=15\n",
    "aspect=1\n",
    "x_jitter=0\n",
    "y_jitter=0\n",
    "\n",
    "# xlim=(0,14)\n",
    "# ylim=(-14, 10)\n",
    "alpha=1\n",
    "marker='.'\n",
    "legend=True"
   ]
  },
  {
   "cell_type": "markdown",
   "metadata": {},
   "source": [
    "# datasets"
   ]
  },
  {
   "cell_type": "code",
   "execution_count": 3,
   "metadata": {},
   "outputs": [],
   "source": [
    "wago_1_ONLY_specific_path = \"../../comparisons/list_of_blue_points_IP_WAGO_1_ONLY_specific.txt\"\n",
    "wago_1_ONLY_specific = pd.read_csv(wago_1_ONLY_specific_path, header=None)\n",
    "wago_1_ONLY_specific.columns =[ \"Name\"]"
   ]
  },
  {
   "cell_type": "code",
   "execution_count": 4,
   "metadata": {},
   "outputs": [],
   "source": [
    "wago_1_dpf_3_null_specific_path = \"../../comparisons/list_of_red_points_IP_WAGO_1_dpf_3_null_specific.txt\"\n",
    "wago_1_dpf_3_null_specific = pd.read_csv(wago_1_dpf_3_null_specific_path, header=None)\n",
    "wago_1_dpf_3_null_specific.columns =[ \"Name\"]"
   ]
  },
  {
   "cell_type": "code",
   "execution_count": 5,
   "metadata": {},
   "outputs": [],
   "source": [
    "wago_1_path = \"../../comparisons/list_of_other_color_IP_WAGO_1_specific.txt\"\n",
    "wago_1 = pd.read_csv(wago_1_path, header=None)\n",
    "wago_1.columns =[ \"Name\"]"
   ]
  },
  {
   "cell_type": "code",
   "execution_count": 6,
   "metadata": {},
   "outputs": [],
   "source": [
    "csr_1_ip_path = \"../../04_csr_1_IP/results/filter/DE_htseq_count__alignment_sorted_filtered_unique_mappers__reverse__csr-1_input__csr-1_IP/DE_edgeR/final_table_FDR_low.tsv\"\n",
    "csr_1_ip = pd.read_csv(csr_1_ip_path, header=0, sep=\"\\t\")\n",
    "csr_1_ip = pd.DataFrame(csr_1_ip[(csr_1_ip[\"FDR\"]<0.05) & (csr_1_ip[\"logFC\"]>0)][\"id\"]).copy()\n",
    "csr_1_ip.columns = [\"Name\"]"
   ]
  },
  {
   "cell_type": "markdown",
   "metadata": {},
   "source": [
    "# find how many times a gene overlaps with a repeat"
   ]
  },
  {
   "cell_type": "code",
   "execution_count": 7,
   "metadata": {},
   "outputs": [],
   "source": [
    "%%bash\n",
    "\n",
    "gtf=\"../../00_annotation/results/annotation/canonical_geneset.exons.gtf\"\n",
    "bed=\"../../00_annotation/results/annotation/ce_11_repeats.filtered.bed\"\n",
    "\n",
    "bedtools intersect \\\n",
    "-a $gtf \\\n",
    "-b $bed \\\n",
    "-s \\\n",
    "-c > genes_overlap_with_repeats.tsv"
   ]
  },
  {
   "cell_type": "code",
   "execution_count": 8,
   "metadata": {},
   "outputs": [],
   "source": [
    "df = pd.read_csv(\"genes_overlap_with_repeats.tsv\", header=None, sep=\"\\t\")\n",
    "df.columns = [\"seqname\", \"source\", \"feature\", \"start\", \"end\", \"score\", \"strand\", \"frame\", \"attribute\", \"counts\"]"
   ]
  },
  {
   "cell_type": "code",
   "execution_count": 9,
   "metadata": {},
   "outputs": [],
   "source": [
    "df[\"gene_id\"] = pd.DataFrame(df[\"attribute\"].str.split(\";\").str[0].str.replace(\"gene_id \", \"\").str.replace(\"\\\"\", \"\"))\n",
    "df[\"gene_biotype\"] = pd.DataFrame(df[\"attribute\"].str.split(\";\").str[4].str.replace(\"gene_biotype\", \"\").str.replace(\"\\\"\", \"\"))"
   ]
  },
  {
   "cell_type": "code",
   "execution_count": 10,
   "metadata": {},
   "outputs": [],
   "source": [
    "df_counts = df[[\"gene_id\", \"counts\"]].groupby(\"gene_id\").sum()"
   ]
  },
  {
   "cell_type": "code",
   "execution_count": 11,
   "metadata": {},
   "outputs": [],
   "source": [
    "genes_overlap_with_repeats = df_counts[df_counts[\"counts\"]>0].index.to_list()"
   ]
  },
  {
   "cell_type": "code",
   "execution_count": 12,
   "metadata": {},
   "outputs": [
    {
     "data": {
      "text/plain": [
       "1226"
      ]
     },
     "execution_count": 12,
     "metadata": {},
     "output_type": "execute_result"
    }
   ],
   "source": [
    "len(genes_overlap_with_repeats)"
   ]
  },
  {
   "cell_type": "markdown",
   "metadata": {},
   "source": [
    "# find how many times a repeat overlaps with a gene"
   ]
  },
  {
   "cell_type": "code",
   "execution_count": 13,
   "metadata": {},
   "outputs": [],
   "source": [
    "%%bash\n",
    "\n",
    "gtf=\"../../00_annotation/results/annotation/canonical_geneset.exons.gtf\"\n",
    "bed=\"../../00_annotation/results/annotation/ce_11_repeats.filtered.bed\"\n",
    "\n",
    "bedtools intersect \\\n",
    "-a $bed \\\n",
    "-b $gtf \\\n",
    "-s \\\n",
    "-c > repeats_overlap_with_genes.tsv"
   ]
  },
  {
   "cell_type": "code",
   "execution_count": 14,
   "metadata": {},
   "outputs": [],
   "source": [
    "df = pd.read_csv(\"repeats_overlap_with_genes.tsv\", header=None, sep=\"\\t\")\n",
    "df.columns = [\"seqname\",\"start\", \"end\", \"repeat\", \"score\", \"strand\", \"counts\"]\n",
    "df_counts_collapsed = df[df[\"counts\"]>0]"
   ]
  },
  {
   "cell_type": "code",
   "execution_count": 15,
   "metadata": {},
   "outputs": [],
   "source": [
    "repeats_overlap_with_genes = \\\n",
    "list((df_counts_collapsed[\"seqname\"].map(str)) \\\n",
    "+ \":\" \\\n",
    "+ (df_counts_collapsed[\"start\"].map(int)+1).map(str) \\\n",
    "+ \"-\" \\\n",
    "+ (df_counts_collapsed[\"end\"].map(str)) \\\n",
    "+ \":\" \\\n",
    "+ (df_counts_collapsed[\"strand\"].map(str)))"
   ]
  },
  {
   "cell_type": "code",
   "execution_count": 16,
   "metadata": {},
   "outputs": [
    {
     "data": {
      "text/plain": [
       "1340"
      ]
     },
     "execution_count": 16,
     "metadata": {},
     "output_type": "execute_result"
    }
   ],
   "source": [
    "len(repeats_overlap_with_genes)"
   ]
  },
  {
   "cell_type": "markdown",
   "metadata": {},
   "source": [
    "# Statistics for the 3 conditions"
   ]
  },
  {
   "cell_type": "code",
   "execution_count": 17,
   "metadata": {},
   "outputs": [],
   "source": [
    "wago_1_ONLY_specific[\"annotation\"] = \"gene\"\n",
    "wago_1_ONLY_specific.loc[~wago_1_ONLY_specific.Name.str.startswith(\"WBGene\"), \"annotation\"] = \"repeat\"\n",
    "wago_1_ONLY_specific.loc[(\n",
    "    wago_1_ONLY_specific[\"Name\"].isin(genes_overlap_with_repeats) |\n",
    "    wago_1_ONLY_specific[\"Name\"].isin(repeats_overlap_with_genes)\n",
    "), \"annotation\"] = \"gene/repeat\""
   ]
  },
  {
   "cell_type": "code",
   "execution_count": 18,
   "metadata": {},
   "outputs": [
    {
     "data": {
      "text/plain": [
       "gene           303\n",
       "repeat          49\n",
       "gene/repeat     26\n",
       "Name: annotation, dtype: int64"
      ]
     },
     "execution_count": 18,
     "metadata": {},
     "output_type": "execute_result"
    }
   ],
   "source": [
    "wago_1_ONLY_specific.annotation.value_counts()"
   ]
  },
  {
   "cell_type": "code",
   "execution_count": 19,
   "metadata": {},
   "outputs": [],
   "source": [
    "wago_1_dpf_3_null_specific[\"annotation\"] = \"gene\"\n",
    "wago_1_dpf_3_null_specific.loc[~wago_1_dpf_3_null_specific.Name.str.startswith(\"WBGene\"), \"annotation\"] = \"repeat\"\n",
    "wago_1_dpf_3_null_specific.loc[(\n",
    "    wago_1_dpf_3_null_specific[\"Name\"].isin(genes_overlap_with_repeats) |\n",
    "    wago_1_dpf_3_null_specific[\"Name\"].isin(repeats_overlap_with_genes)\n",
    "), \"annotation\"] = \"gene/repeat\""
   ]
  },
  {
   "cell_type": "code",
   "execution_count": 20,
   "metadata": {},
   "outputs": [
    {
     "data": {
      "text/plain": [
       "gene           447\n",
       "gene/repeat     13\n",
       "repeat           9\n",
       "Name: annotation, dtype: int64"
      ]
     },
     "execution_count": 20,
     "metadata": {},
     "output_type": "execute_result"
    }
   ],
   "source": [
    "wago_1_dpf_3_null_specific.annotation.value_counts()"
   ]
  },
  {
   "cell_type": "code",
   "execution_count": 21,
   "metadata": {},
   "outputs": [],
   "source": [
    "wago_1[\"annotation\"] = \"gene\"\n",
    "wago_1.loc[~wago_1.Name.str.startswith(\"WBGene\"), \"annotation\"] = \"repeat\"\n",
    "wago_1.loc[(\n",
    "    wago_1[\"Name\"].isin(genes_overlap_with_repeats) |\n",
    "    wago_1[\"Name\"].isin(repeats_overlap_with_genes)\n",
    "), \"annotation\"] = \"gene/repeat\""
   ]
  },
  {
   "cell_type": "code",
   "execution_count": 22,
   "metadata": {},
   "outputs": [
    {
     "data": {
      "text/plain": [
       "gene           2742\n",
       "repeat          329\n",
       "gene/repeat     205\n",
       "Name: annotation, dtype: int64"
      ]
     },
     "execution_count": 22,
     "metadata": {},
     "output_type": "execute_result"
    }
   ],
   "source": [
    "wago_1.annotation.value_counts()"
   ]
  },
  {
   "cell_type": "markdown",
   "metadata": {},
   "source": [
    "# Statistics for csr-1"
   ]
  },
  {
   "cell_type": "code",
   "execution_count": 23,
   "metadata": {},
   "outputs": [],
   "source": [
    "csr_1_ip[\"annotation\"] = \"gene\"\n",
    "csr_1_ip.loc[~csr_1_ip.Name.str.startswith(\"WBGene\"), \"annotation\"] = \"repeat\"\n",
    "csr_1_ip.loc[(\n",
    "    csr_1_ip[\"Name\"].isin(genes_overlap_with_repeats) |\n",
    "    csr_1_ip[\"Name\"].isin(repeats_overlap_with_genes)\n",
    "), \"annotation\"] = \"gene/repeat\""
   ]
  },
  {
   "cell_type": "code",
   "execution_count": 24,
   "metadata": {},
   "outputs": [
    {
     "data": {
      "text/plain": [
       "gene           3910\n",
       "gene/repeat     156\n",
       "repeat           56\n",
       "Name: annotation, dtype: int64"
      ]
     },
     "execution_count": 24,
     "metadata": {},
     "output_type": "execute_result"
    }
   ],
   "source": [
    "csr_1_ip.annotation.value_counts()"
   ]
  },
  {
   "cell_type": "code",
   "execution_count": null,
   "metadata": {},
   "outputs": [],
   "source": []
  }
 ],
 "metadata": {
  "kernelspec": {
   "display_name": "Python 3",
   "language": "python",
   "name": "python3"
  },
  "language_info": {
   "codemirror_mode": {
    "name": "ipython",
    "version": 3
   },
   "file_extension": ".py",
   "mimetype": "text/x-python",
   "name": "python",
   "nbconvert_exporter": "python",
   "pygments_lexer": "ipython3",
   "version": "3.7.6"
  }
 },
 "nbformat": 4,
 "nbformat_minor": 4
}
